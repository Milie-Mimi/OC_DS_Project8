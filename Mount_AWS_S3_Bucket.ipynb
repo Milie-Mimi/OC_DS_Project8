{
 "cells": [
  {
   "cell_type": "code",
   "execution_count": 0,
   "metadata": {
    "application/vnd.databricks.v1+cell": {
     "cellMetadata": {
      "byteLimit": 2048000,
      "rowLimit": 10000
     },
     "inputWidgets": {},
     "nuid": "38e58e61-96c4-471e-a3de-5d9236c3dcfa",
     "showTitle": false,
     "title": ""
    }
   },
   "outputs": [
    {
     "output_type": "stream",
     "name": "stdout",
     "output_type": "stream",
     "text": [
      "Out[1]: [FileInfo(path='dbfs:/FileStore/tables/databricks_accessKeys.csv', name='databricks_accessKeys.csv', size=99, modificationTime=1688117347000),\n FileInfo(path='dbfs:/FileStore/tables/img/', name='img/', size=0, modificationTime=1688117380215)]"
     ]
    }
   ],
   "source": [
    "# Check if the credential file is uploaded\n",
    "\n",
    "dbutils.fs.ls(\"/FileStore/tables/\")"
   ]
  },
  {
   "cell_type": "code",
   "execution_count": 0,
   "metadata": {
    "application/vnd.databricks.v1+cell": {
     "cellMetadata": {
      "byteLimit": 2048000,
      "rowLimit": 10000
     },
     "inputWidgets": {},
     "nuid": "ff287d9f-600f-475e-a824-ba3fcce47172",
     "showTitle": false,
     "title": ""
    }
   },
   "outputs": [],
   "source": [
    "file_type = \"csv\"\n",
    "first_row_header = \"true\"\n",
    "delimiter = \",\"\n",
    "\n",
    "# Read the CSV file to spark dataframe\n",
    "aws_keys_df = spark.read.format(file_type)\\\n",
    ".option(\"header\", first_row_header)\\\n",
    ".option(\"sep\", delimiter)\\\n",
    ".load(\"/FileStore/tables/databricks_accessKeys.csv\")"
   ]
  },
  {
   "cell_type": "code",
   "execution_count": 0,
   "metadata": {
    "application/vnd.databricks.v1+cell": {
     "cellMetadata": {
      "byteLimit": 2048000,
      "rowLimit": 10000
     },
     "inputWidgets": {},
     "nuid": "4717fb5b-0d72-468f-b2a6-7a6ac44a14cc",
     "showTitle": false,
     "title": ""
    }
   },
   "outputs": [],
   "source": [
    "# To send keys to AWS\n",
    "\n",
    "from pyspark.sql.functions import *\n",
    "import urllib\n",
    "\n",
    "# Collect access and secret key from spark dataframe (dbfs:/FileStore/tables/)\n",
    "ACCESS_KEY = aws_keys_df.select('Access_key_ID').collect()[0]['Access_key_ID']\n",
    "SECRET_KEY = aws_keys_df.select('Secret_access_key').collect()[0]['Secret_access_key']\n",
    "\n",
    "# Encode secret key (safe=\"\" means every character in the secret key is encoded)\n",
    "ENCODED_SECRET_KEY = urllib.parse.quote(SECRET_KEY,\"\")"
   ]
  },
  {
   "cell_type": "code",
   "execution_count": 0,
   "metadata": {
    "application/vnd.databricks.v1+cell": {
     "cellMetadata": {
      "byteLimit": 2048000,
      "rowLimit": 10000
     },
     "inputWidgets": {},
     "nuid": "b1b9e721-6299-4a7f-a8c1-70adc7b89793",
     "showTitle": false,
     "title": ""
    }
   },
   "outputs": [
    {
     "output_type": "stream",
     "name": "stdout",
     "output_type": "stream",
     "text": [
      "Out[5]: True"
     ]
    }
   ],
   "source": [
    "# Mount the S3 bucket\n",
    "\n",
    "# AWS S3 bucket name\n",
    "AWS_S3_BUCKET = \"fruits-pictures\"\n",
    "# Mount name for the bucket\n",
    "MOUNT_NAME = \"/mnt/fruits-pictures\"\n",
    "# Source url\n",
    "SOURCE_URL = \"s3n://{0}:{1}@{2}\".format(ACCESS_KEY, ENCODED_SECRET_KEY, AWS_S3_BUCKET)\n",
    "# Mount the drive\n",
    "dbutils.fs.mount(SOURCE_URL, MOUNT_NAME)"
   ]
  },
  {
   "cell_type": "code",
   "execution_count": 0,
   "metadata": {
    "application/vnd.databricks.v1+cell": {
     "cellMetadata": {
      "byteLimit": 2048000,
      "rowLimit": 10000
     },
     "inputWidgets": {},
     "nuid": "69906939-7c7e-4f39-956f-d017d28eeea8",
     "showTitle": false,
     "title": ""
    }
   },
   "outputs": [
    {
     "output_type": "display_data",
     "data": {
      "text/html": [
       "<style scoped>\n",
       "  .table-result-container {\n",
       "    max-height: 300px;\n",
       "    overflow: auto;\n",
       "  }\n",
       "  table, th, td {\n",
       "    border: 1px solid black;\n",
       "    border-collapse: collapse;\n",
       "  }\n",
       "  th, td {\n",
       "    padding: 5px;\n",
       "  }\n",
       "  th {\n",
       "    text-align: left;\n",
       "  }\n",
       "</style><div class='table-result-container'><table class='table-result'><thead style='background-color: white'><tr><th>path</th><th>name</th><th>size</th><th>modificationTime</th></tr></thead><tbody><tr><td>dbfs:/mnt/fruits-pictures/test_local/Watermelon/125_100.jpg</td><td>125_100.jpg</td><td>6855</td><td>1688117519000</td></tr><tr><td>dbfs:/mnt/fruits-pictures/test_local/Watermelon/r_113_100.jpg</td><td>r_113_100.jpg</td><td>7018</td><td>1688117520000</td></tr><tr><td>dbfs:/mnt/fruits-pictures/test_local/Watermelon/r_183_100.jpg</td><td>r_183_100.jpg</td><td>7018</td><td>1688117521000</td></tr><tr><td>dbfs:/mnt/fruits-pictures/test_local/Watermelon/r_47_100.jpg</td><td>r_47_100.jpg</td><td>7071</td><td>1688117522000</td></tr><tr><td>dbfs:/mnt/fruits-pictures/test_local/Watermelon/r_63_100.jpg</td><td>r_63_100.jpg</td><td>7251</td><td>1688117522000</td></tr></tbody></table></div>"
      ]
     },
     "metadata": {
      "application/vnd.databricks.v1+output": {
       "addedWidgets": {},
       "aggData": [],
       "aggError": "",
       "aggOverflow": false,
       "aggSchema": [],
       "aggSeriesLimitReached": false,
       "aggType": "",
       "arguments": {},
       "columnCustomDisplayInfos": {},
       "data": [
        [
         "dbfs:/mnt/fruits-pictures/test_local/Watermelon/125_100.jpg",
         "125_100.jpg",
         6855,
         1688117519000
        ],
        [
         "dbfs:/mnt/fruits-pictures/test_local/Watermelon/r_113_100.jpg",
         "r_113_100.jpg",
         7018,
         1688117520000
        ],
        [
         "dbfs:/mnt/fruits-pictures/test_local/Watermelon/r_183_100.jpg",
         "r_183_100.jpg",
         7018,
         1688117521000
        ],
        [
         "dbfs:/mnt/fruits-pictures/test_local/Watermelon/r_47_100.jpg",
         "r_47_100.jpg",
         7071,
         1688117522000
        ],
        [
         "dbfs:/mnt/fruits-pictures/test_local/Watermelon/r_63_100.jpg",
         "r_63_100.jpg",
         7251,
         1688117522000
        ]
       ],
       "datasetInfos": [],
       "dbfsResultPath": null,
       "isJsonSchema": true,
       "metadata": {},
       "overflow": false,
       "plotOptions": {
        "customPlotOptions": {},
        "displayType": "table",
        "pivotAggregation": null,
        "pivotColumns": null,
        "xColumns": null,
        "yColumns": null
       },
       "removedWidgets": [],
       "schema": [
        {
         "metadata": "{}",
         "name": "path",
         "type": "\"string\""
        },
        {
         "metadata": "{}",
         "name": "name",
         "type": "\"string\""
        },
        {
         "metadata": "{}",
         "name": "size",
         "type": "\"long\""
        },
        {
         "metadata": "{}",
         "name": "modificationTime",
         "type": "\"long\""
        }
       ],
       "type": "table"
      }
     },
     "output_type": "display_data"
    }
   ],
   "source": [
    "# Read data from the mounted S3 bucket\n",
    "\n",
    "# Check if the AWS S3 bucket was mounted successfully\n",
    "# %fs ls \"/mnt/fruits-pictures/\"\n",
    "display(dbutils.fs.ls(\"/mnt/fruits-pictures/test_local/Watermelon/\"))"
   ]
  }
 ],
 "metadata": {
  "application/vnd.databricks.v1+notebook": {
   "dashboards": [],
   "language": "python",
   "notebookMetadata": {
    "mostRecentlyExecutedCommandWithImplicitDF": {
     "commandId": 4260875087482885,
     "dataframes": [
      "_sqldf"
     ]
    },
    "pythonIndentUnit": 4
   },
   "notebookName": "Mount_AWS_S3_Bucket",
   "widgets": {}
  }
 },
 "nbformat": 4,
 "nbformat_minor": 0
}
